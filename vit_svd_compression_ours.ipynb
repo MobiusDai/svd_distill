{
 "cells": [
  {
   "cell_type": "code",
   "execution_count": 1,
   "metadata": {},
   "outputs": [
    {
     "name": "stderr",
     "output_type": "stream",
     "text": [
      "/home/ubuntu/anaconda3/envs/jctorch/lib/python3.10/site-packages/tqdm/auto.py:21: TqdmWarning: IProgress not found. Please update jupyter and ipywidgets. See https://ipywidgets.readthedocs.io/en/stable/user_install.html\n",
      "  from .autonotebook import tqdm as notebook_tqdm\n"
     ]
    }
   ],
   "source": [
    "import torch \n",
    "from transformers import ViTImageProcessor, ViTForImageClassification"
   ]
  },
  {
   "cell_type": "code",
   "execution_count": 2,
   "metadata": {},
   "outputs": [],
   "source": [
    "processor = ViTImageProcessor.from_pretrained('./vit-base-patch16-224')\n",
    "model = ViTForImageClassification.from_pretrained('./vit-base-patch16-224')"
   ]
  },
  {
   "cell_type": "code",
   "execution_count": 3,
   "metadata": {},
   "outputs": [
    {
     "name": "stdout",
     "output_type": "stream",
     "text": [
      "86,567,656 total parameters.\n"
     ]
    }
   ],
   "source": [
    "total_params = sum(p.numel() for p in model.parameters())\n",
    "print(f'{total_params:,} total parameters.')"
   ]
  },
  {
   "cell_type": "code",
   "execution_count": 4,
   "metadata": {},
   "outputs": [
    {
     "name": "stdout",
     "output_type": "stream",
     "text": [
      "['vit.encoder.layer.0.attention.attention.query.weight', 'vit.encoder.layer.1.attention.attention.query.weight', 'vit.encoder.layer.2.attention.attention.query.weight', 'vit.encoder.layer.3.attention.attention.query.weight', 'vit.encoder.layer.4.attention.attention.query.weight']\n"
     ]
    }
   ],
   "source": [
    "compressed_keys = []\n",
    "\n",
    "for name, param in model.named_parameters():\n",
    "    # if 'encoder' in name and 'weight' in name and 'norm' not in name:\n",
    "    if ('query' in name) and 'weight' in name:\n",
    "        compressed_keys.append(name)\n",
    "\n",
    "print(compressed_keys[:5])"
   ]
  },
  {
   "cell_type": "code",
   "execution_count": 5,
   "metadata": {},
   "outputs": [
    {
     "name": "stdout",
     "output_type": "stream",
     "text": [
      "12,311,376 compressed parameters.\n"
     ]
    }
   ],
   "source": [
    "compressed_params = 0\n",
    "for name in compressed_keys:\n",
    "    q_weight = model.state_dict()[name]\n",
    "    k_weight = model.state_dict()[name.replace('query', 'key')]\n",
    "    compressed_params += q_weight.numel() + k_weight.numel()\n",
    "    qk_weight = q_weight.T @ k_weight\n",
    "    u, s, v = torch.svd_lowrank(qk_weight, q=100)\n",
    "    # new_q_weight_t = u @ torch.diag(s) @ v.T\n",
    "    new_q_weight_t = qk_weight.T \n",
    "    new_k_weight = torch.eye(k_weight.size(0), k_weight.size(1), device=k_weight.device)\n",
    "    model.state_dict()[name].copy_(new_q_weight_t.T)\n",
    "    model.state_dict()[name.replace('query', 'key')].copy_(new_k_weight)\n",
    "    compressed_params -= u.numel() + s.numel() + v.numel()\n",
    "\n",
    "print(f'{compressed_params:,} compressed parameters.')"
   ]
  },
  {
   "cell_type": "code",
   "execution_count": 6,
   "metadata": {},
   "outputs": [
    {
     "name": "stdout",
     "output_type": "stream",
     "text": [
      "model parameters: 74,256,280, ratio: 0.86\n"
     ]
    }
   ],
   "source": [
    "print(f'model parameters: {total_params-compressed_params:,}, ratio: {(total_params-compressed_params)/total_params:.2f}')"
   ]
  },
  {
   "cell_type": "code",
   "execution_count": 7,
   "metadata": {},
   "outputs": [
    {
     "data": {
      "text/plain": [
       "['vit-base-patch16-224-svd-QK16/preprocessor_config.json']"
      ]
     },
     "execution_count": 7,
     "metadata": {},
     "output_type": "execute_result"
    }
   ],
   "source": [
    "model_name = 'vit-base-patch16-224-svd-QK16'\n",
    "model.save_pretrained(model_name)\n",
    "processor.save_pretrained(model_name)"
   ]
  },
  {
   "cell_type": "code",
   "execution_count": null,
   "metadata": {},
   "outputs": [],
   "source": []
  }
 ],
 "metadata": {
  "kernelspec": {
   "display_name": "jctorch",
   "language": "python",
   "name": "python3"
  },
  "language_info": {
   "codemirror_mode": {
    "name": "ipython",
    "version": 3
   },
   "file_extension": ".py",
   "mimetype": "text/x-python",
   "name": "python",
   "nbconvert_exporter": "python",
   "pygments_lexer": "ipython3",
   "version": "3.10.14"
  }
 },
 "nbformat": 4,
 "nbformat_minor": 2
}
