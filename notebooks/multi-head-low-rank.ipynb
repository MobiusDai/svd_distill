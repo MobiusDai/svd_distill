{
 "cells": [
  {
   "cell_type": "code",
   "execution_count": 10,
   "metadata": {},
   "outputs": [],
   "source": [
    "from datasets import load_dataset\n",
    "from transformers import ViTImageProcessor\n",
    "from einops import rearrange"
   ]
  },
  {
   "cell_type": "code",
   "execution_count": 2,
   "metadata": {},
   "outputs": [],
   "source": [
    "val_dataset = load_dataset(\"/data/jc/datasets/cifar-10\", split=\"test\", streaming=True)\n",
    "\n",
    "processor = ViTImageProcessor.from_pretrained('../weights/vit-base-patch16-224-in21k-finetuned-cifar10/')\n",
    "\n",
    "def preprocess_function(item):\n",
    "    # Resize the input image to the model's size\n",
    "    inputs = processor(images=item[\"img\"], return_tensors=\"pt\")\n",
    "    inputs[\"labels\"] = item[\"label\"]\n",
    "    return inputs \n",
    "\n",
    "val_dataset = val_dataset.map(preprocess_function, remove_columns=[\"img\"], batched=True)"
   ]
  },
  {
   "cell_type": "code",
   "execution_count": 3,
   "metadata": {},
   "outputs": [],
   "source": [
    "from transformers import ViTForImageClassification\n",
    "\n",
    "model = ViTForImageClassification.from_pretrained('../weights/vit-base-patch16-224-in21k-finetuned-cifar10')"
   ]
  },
  {
   "cell_type": "code",
   "execution_count": 4,
   "metadata": {},
   "outputs": [],
   "source": [
    "import torch \n",
    "\n",
    "inputs = torch.randn(1, 16, 768)"
   ]
  },
  {
   "cell_type": "code",
   "execution_count": 5,
   "metadata": {},
   "outputs": [],
   "source": [
    "query_fn = model.vit.encoder.layer[0].attention.attention.query\n",
    "key_fn = model.vit.encoder.layer[0].attention.attention.key"
   ]
  },
  {
   "cell_type": "code",
   "execution_count": 6,
   "metadata": {},
   "outputs": [
    {
     "data": {
      "text/plain": [
       "torch.Size([768, 768])"
      ]
     },
     "execution_count": 6,
     "metadata": {},
     "output_type": "execute_result"
    }
   ],
   "source": [
    "query_fn.weight.shape"
   ]
  },
  {
   "cell_type": "code",
   "execution_count": 7,
   "metadata": {},
   "outputs": [
    {
     "data": {
      "text/plain": [
       "True"
      ]
     },
     "execution_count": 7,
     "metadata": {},
     "output_type": "execute_result"
    }
   ],
   "source": [
    "query = query_fn(inputs)\n",
    "query_manually = torch.einsum('b n d, m d -> b n m', inputs, query_fn.weight) + query_fn.bias\n",
    "torch.allclose(query, query_manually, atol=1e-6)"
   ]
  },
  {
   "cell_type": "code",
   "execution_count": 9,
   "metadata": {},
   "outputs": [
    {
     "name": "stdout",
     "output_type": "stream",
     "text": [
      "torch.Size([1, 12, 16, 64])\n"
     ]
    }
   ],
   "source": [
    "query_head = model.vit.encoder.layer[0].attention.attention.transpose_for_scores(query)\n",
    "print(query_head.shape)"
   ]
  },
  {
   "cell_type": "code",
   "execution_count": 20,
   "metadata": {},
   "outputs": [],
   "source": [
    "query_manually_weight = rearrange(query_fn.weight, '(h o) d -> h o d', h=12)\n",
    "query_manually_bias = rearrange(query_fn.bias, '(h o) -> h 1 o', h=12)\n",
    "query_manually_head = torch.einsum('b n d, h o d -> b h n o', inputs, query_manually_weight) + query_manually_bias"
   ]
  },
  {
   "cell_type": "code",
   "execution_count": 21,
   "metadata": {},
   "outputs": [
    {
     "data": {
      "text/plain": [
       "True"
      ]
     },
     "execution_count": 21,
     "metadata": {},
     "output_type": "execute_result"
    }
   ],
   "source": [
    "torch.allclose(query_head, query_manually_head, atol=1e-6)"
   ]
  },
  {
   "cell_type": "code",
   "execution_count": null,
   "metadata": {},
   "outputs": [],
   "source": []
  }
 ],
 "metadata": {
  "kernelspec": {
   "display_name": "jcenv",
   "language": "python",
   "name": "python3"
  },
  "language_info": {
   "codemirror_mode": {
    "name": "ipython",
    "version": 3
   },
   "file_extension": ".py",
   "mimetype": "text/x-python",
   "name": "python",
   "nbconvert_exporter": "python",
   "pygments_lexer": "ipython3",
   "version": "3.10.14"
  }
 },
 "nbformat": 4,
 "nbformat_minor": 2
}
